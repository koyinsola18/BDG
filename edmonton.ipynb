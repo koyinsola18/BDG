{
 "cells": [
  {
   "cell_type": "code",
   "execution_count": 2,
   "id": "c2d155a3",
   "metadata": {},
   "outputs": [
    {
     "name": "stdout",
     "output_type": "stream",
     "text": [
      "Profile Columns ['CMANAME', 'CMAUID', 'CSDNAME', 'CSDUID', 'public_caf', 'public_ef', 'public_emp', 'public_gs', 'public_hf', 'public_psef', 'public_srf', 'walk_caf', 'walk_ef', 'walk_emp', 'walk_gs', 'walk_hf', 'walk_psef', 'walk_srf', 'ada_code_n', 'ADA_code']\n",
      "ACS Columns ['CMANAME', 'CMAUID', 'CSDNAME', 'CSDUID', 'PRNAME', 'ada_code_n', 'ADA_code', 'T1527', 'T1528', 'T1529', 'T1530', 'T1531', 'T1532', 'T1533', 'T1534', 'T1535', 'T1536', 'T1537', 'T1538', 'T1539', 'T1540', 'T1541', 'T1542', 'T1543', 'T1544', 'T1545', 'T1546', 'T1547', 'T1548', 'T1549', 'T1550', 'T1551', 'T1552', 'T1553', 'T1554', 'T1555', 'T1556', 'T1557', 'T1558', 'T1559', 'T1560', 'T1561', 'T1562', 'T1563', 'T1564', 'T1565', 'T1566', 'T1567', 'T1568', 'T1569', 'T1570', 'T1571', 'T1572', 'T1573', 'T1574', 'T1575', 'T1576', 'T1577', 'T1578', 'T1579', 'T1580', 'T1581', 'T1582', 'T1583', 'T1584', 'T1585', 'T1586', 'T1587', 'T1588', 'T1589', 'T1590', 'T1591', 'T1592', 'T1593', 'T1594', 'T1595', 'T1596', 'T1597', 'T1598', 'T1599', 'T1600', 'T1601', 'T1602', 'T1603', 'T1604', 'T1605', 'T1606', 'T1607', 'T1608', 'T1609', 'T1610', 'T1611', 'T1612', 'T1613', 'T1614', 'T1615', 'T1616', 'T1617', 'T1618', 'T1619', 'T1620', 'T1621', 'T1622', 'T1623', 'T1624', 'T1625', 'T1626', 'T1627', 'T1628', 'T1629', 'T1630', 'T1631', 'T1632', 'T1633', 'T1634', 'T1635', 'T1636', 'T1637', 'T1638', 'T1639', 'T1640', 'T1641', 'T1642', 'T1643', 'T1644', 'T1645', 'T1646', 'T1647', 'T1648', 'T1649', 'T1650', 'T1651', 'T1652', 'T1653', 'T1654', 'T1655', 'T1656', 'T1657', 'T1658', 'T1659', 'T1660', 'T1661', 'T1662', 'T1663', 'T1664', 'T1665', 'T1666', 'T1667', 'T1668', 'T1669', 'T1670', 'T1671', 'T1672', 'T1673', 'T1674', 'T1675', 'T1676', 'T1677', 'T1678', 'T1679', 'T1680', 'T1681', 'T1682', 'W1527', 'W1528', 'W1529', 'W1530', 'W1531', 'W1532', 'W1533', 'W1534', 'W1535', 'W1536', 'W1537', 'W1538', 'W1539', 'W1540', 'W1541', 'W1542', 'W1543', 'W1544', 'W1545', 'W1546', 'W1547', 'W1548', 'W1549', 'W1550', 'W1551', 'W1552', 'W1553', 'W1554', 'W1555', 'W1556', 'W1557', 'W1558', 'W1559', 'W1560', 'W1561', 'W1562', 'W1563', 'W1564', 'W1565', 'W1566', 'W1567', 'W1568', 'W1569', 'W1570', 'W1571', 'W1572', 'W1573', 'W1574', 'W1575', 'W1576', 'W1577', 'W1578', 'W1579', 'W1580', 'W1581', 'W1582', 'W1583', 'W1584', 'W1585', 'W1586', 'W1587', 'W1588', 'W1589', 'W1590', 'W1591', 'W1592', 'W1593', 'W1594', 'W1595', 'W1596', 'W1597', 'W1598', 'W1599', 'W1600', 'W1601', 'W1602', 'W1603', 'W1604', 'W1605', 'W1606', 'W1607', 'W1608', 'W1609', 'W1610', 'W1611', 'W1612', 'W1613', 'W1614', 'W1615', 'W1616', 'W1617', 'W1618', 'W1619', 'W1620', 'W1621', 'W1622', 'W1623', 'W1624', 'W1625', 'W1626', 'W1627', 'W1628', 'W1629', 'W1630', 'W1631', 'W1632', 'W1633', 'W1634', 'W1635', 'W1636', 'W1637', 'W1638', 'W1639', 'W1640', 'W1641', 'W1642', 'W1643', 'W1644', 'W1645', 'W1646', 'W1647', 'W1648', 'W1649', 'W1650', 'W1651', 'W1652', 'W1653', 'W1654', 'W1655', 'W1656', 'W1657', 'W1658', 'W1659', 'W1660', 'W1661', 'W1662', 'W1663', 'W1664', 'W1665', 'W1666', 'W1667', 'W1668', 'W1669', 'W1670', 'W1671', 'W1672', 'W1673', 'W1674', 'W1675', 'W1676', 'W1677', 'W1678', 'W1679', 'W1680', 'W1681', 'W1682']\n"
     ]
    },
    {
     "ename": "ImportError",
     "evalue": "The 'mapclassify' package (>= 2.4.0) is required to use the 'scheme' keyword.",
     "output_type": "error",
     "traceback": [
      "\u001b[31m---------------------------------------------------------------------------\u001b[39m",
      "\u001b[31mModuleNotFoundError\u001b[39m                       Traceback (most recent call last)",
      "\u001b[36mFile \u001b[39m\u001b[32m/Library/Frameworks/Python.framework/Versions/3.12/lib/python3.12/site-packages/geopandas/plotting.py:739\u001b[39m, in \u001b[36mplot_dataframe\u001b[39m\u001b[34m(df, column, cmap, color, ax, cax, categorical, legend, scheme, k, vmin, vmax, markersize, figsize, legend_kwds, categories, classification_kwds, missing_kwds, aspect, autolim, **style_kwds)\u001b[39m\n\u001b[32m    738\u001b[39m \u001b[38;5;28;01mtry\u001b[39;00m:\n\u001b[32m--> \u001b[39m\u001b[32m739\u001b[39m     \u001b[38;5;28;01mimport\u001b[39;00m\u001b[38;5;250m \u001b[39m\u001b[34;01mmapclassify\u001b[39;00m\n\u001b[32m    741\u001b[39m \u001b[38;5;28;01mexcept\u001b[39;00m \u001b[38;5;167;01mImportError\u001b[39;00m:\n",
      "\u001b[31mModuleNotFoundError\u001b[39m: No module named 'mapclassify'",
      "\nDuring handling of the above exception, another exception occurred:\n",
      "\u001b[31mImportError\u001b[39m                               Traceback (most recent call last)",
      "\u001b[36mCell\u001b[39m\u001b[36m \u001b[39m\u001b[32mIn[2]\u001b[39m\u001b[32m, line 55\u001b[39m\n\u001b[32m     53\u001b[39m \u001b[38;5;66;03m# 10) Plot a choropleth of the health-access index\u001b[39;00m\n\u001b[32m     54\u001b[39m fig, ax = plt.subplots(figsize=(\u001b[32m8\u001b[39m,\u001b[32m8\u001b[39m))\n\u001b[32m---> \u001b[39m\u001b[32m55\u001b[39m \u001b[43mgdf_ed\u001b[49m\u001b[43m.\u001b[49m\u001b[43mplot\u001b[49m\u001b[43m(\u001b[49m\n\u001b[32m     56\u001b[39m \u001b[43m    \u001b[49m\u001b[43mcolumn\u001b[49m\u001b[43m=\u001b[49m\u001b[33;43m\"\u001b[39;49m\u001b[33;43maccess_hf\u001b[39;49m\u001b[33;43m\"\u001b[39;49m\u001b[43m,\u001b[49m\n\u001b[32m     57\u001b[39m \u001b[43m    \u001b[49m\u001b[43mcmap\u001b[49m\u001b[43m=\u001b[49m\u001b[33;43m\"\u001b[39;49m\u001b[33;43mviridis\u001b[39;49m\u001b[33;43m\"\u001b[39;49m\u001b[43m,\u001b[49m\n\u001b[32m     58\u001b[39m \u001b[43m    \u001b[49m\u001b[43mscheme\u001b[49m\u001b[43m=\u001b[49m\u001b[33;43m\"\u001b[39;49m\u001b[33;43mquantiles\u001b[39;49m\u001b[33;43m\"\u001b[39;49m\u001b[43m,\u001b[49m\n\u001b[32m     59\u001b[39m \u001b[43m    \u001b[49m\u001b[43mk\u001b[49m\u001b[43m=\u001b[49m\u001b[32;43m5\u001b[39;49m\u001b[43m,\u001b[49m\n\u001b[32m     60\u001b[39m \u001b[43m    \u001b[49m\u001b[43mlegend\u001b[49m\u001b[43m=\u001b[49m\u001b[38;5;28;43;01mTrue\u001b[39;49;00m\u001b[43m,\u001b[49m\n\u001b[32m     61\u001b[39m \u001b[43m    \u001b[49m\u001b[43medgecolor\u001b[49m\u001b[43m=\u001b[49m\u001b[33;43m\"\u001b[39;49m\u001b[33;43mwhite\u001b[39;49m\u001b[33;43m\"\u001b[39;49m\u001b[43m,\u001b[49m\n\u001b[32m     62\u001b[39m \u001b[43m    \u001b[49m\u001b[43mlinewidth\u001b[49m\u001b[43m=\u001b[49m\u001b[32;43m0.2\u001b[39;49m\u001b[43m,\u001b[49m\n\u001b[32m     63\u001b[39m \u001b[43m    \u001b[49m\u001b[43max\u001b[49m\u001b[43m=\u001b[49m\u001b[43max\u001b[49m\n\u001b[32m     64\u001b[39m \u001b[43m)\u001b[49m\n\u001b[32m     66\u001b[39m \u001b[38;5;66;03m# 11) (Optional) Add a neutral basemap underneath\u001b[39;00m\n\u001b[32m     67\u001b[39m cx.add_basemap(\n\u001b[32m     68\u001b[39m     ax,\n\u001b[32m     69\u001b[39m     source=cx.providers.CartoDB.Positron,\n\u001b[32m     70\u001b[39m     crs=gdf_ed.crs,\n\u001b[32m     71\u001b[39m     reset_extent=\u001b[38;5;28;01mFalse\u001b[39;00m\n\u001b[32m     72\u001b[39m )\n",
      "\u001b[36mFile \u001b[39m\u001b[32m/Library/Frameworks/Python.framework/Versions/3.12/lib/python3.12/site-packages/geopandas/plotting.py:968\u001b[39m, in \u001b[36mGeoplotAccessor.__call__\u001b[39m\u001b[34m(self, *args, **kwargs)\u001b[39m\n\u001b[32m    966\u001b[39m kind = kwargs.pop(\u001b[33m\"\u001b[39m\u001b[33mkind\u001b[39m\u001b[33m\"\u001b[39m, \u001b[33m\"\u001b[39m\u001b[33mgeo\u001b[39m\u001b[33m\"\u001b[39m)\n\u001b[32m    967\u001b[39m \u001b[38;5;28;01mif\u001b[39;00m kind == \u001b[33m\"\u001b[39m\u001b[33mgeo\u001b[39m\u001b[33m\"\u001b[39m:\n\u001b[32m--> \u001b[39m\u001b[32m968\u001b[39m     \u001b[38;5;28;01mreturn\u001b[39;00m \u001b[43mplot_dataframe\u001b[49m\u001b[43m(\u001b[49m\u001b[43mdata\u001b[49m\u001b[43m,\u001b[49m\u001b[43m \u001b[49m\u001b[43m*\u001b[49m\u001b[43margs\u001b[49m\u001b[43m,\u001b[49m\u001b[43m \u001b[49m\u001b[43m*\u001b[49m\u001b[43m*\u001b[49m\u001b[43mkwargs\u001b[49m\u001b[43m)\u001b[49m\n\u001b[32m    969\u001b[39m \u001b[38;5;28;01mif\u001b[39;00m kind \u001b[38;5;129;01min\u001b[39;00m \u001b[38;5;28mself\u001b[39m._pandas_kinds:\n\u001b[32m    970\u001b[39m     \u001b[38;5;66;03m# Access pandas plots\u001b[39;00m\n\u001b[32m    971\u001b[39m     \u001b[38;5;28;01mreturn\u001b[39;00m PlotAccessor(data)(kind=kind, **kwargs)\n",
      "\u001b[36mFile \u001b[39m\u001b[32m/Library/Frameworks/Python.framework/Versions/3.12/lib/python3.12/site-packages/geopandas/plotting.py:742\u001b[39m, in \u001b[36mplot_dataframe\u001b[39m\u001b[34m(df, column, cmap, color, ax, cax, categorical, legend, scheme, k, vmin, vmax, markersize, figsize, legend_kwds, categories, classification_kwds, missing_kwds, aspect, autolim, **style_kwds)\u001b[39m\n\u001b[32m    739\u001b[39m     \u001b[38;5;28;01mimport\u001b[39;00m\u001b[38;5;250m \u001b[39m\u001b[34;01mmapclassify\u001b[39;00m\n\u001b[32m    741\u001b[39m \u001b[38;5;28;01mexcept\u001b[39;00m \u001b[38;5;167;01mImportError\u001b[39;00m:\n\u001b[32m--> \u001b[39m\u001b[32m742\u001b[39m     \u001b[38;5;28;01mraise\u001b[39;00m \u001b[38;5;167;01mImportError\u001b[39;00m(mc_err)\n\u001b[32m    744\u001b[39m \u001b[38;5;28;01mif\u001b[39;00m Version(mapclassify.__version__) < Version(\u001b[33m\"\u001b[39m\u001b[33m2.4.0\u001b[39m\u001b[33m\"\u001b[39m):\n\u001b[32m    745\u001b[39m     \u001b[38;5;28;01mraise\u001b[39;00m \u001b[38;5;167;01mImportError\u001b[39;00m(mc_err)\n",
      "\u001b[31mImportError\u001b[39m: The 'mapclassify' package (>= 2.4.0) is required to use the 'scheme' keyword."
     ]
    },
    {
     "data": {
      "image/png": "[encoded data removed]",
      "text/plain": [
       "<Figure size 800x800 with 1 Axes>"
      ]
     },
     "metadata": {},
     "output_type": "display_data"
    }
   ],
   "source": [
    "import geopandas as gpd\n",
    "import pandas as pd\n",
    "import contextily as cx\n",
    "import matplotlib.pyplot as plt\n",
    "\n",
    "# 1) Load the ADA shapefile\n",
    "ada_geo = gpd.read_file(\"/Users/preciousajilore/Documents/GitHub/Misc/BDG/lada000b21a_e.shp\")\n",
    "\n",
    "# 2) Keep only Alberta (PRUID == \"48\") and project to Web-Mercator\n",
    "ada_ab = ada_geo[ada_geo[\"PRUID\"] == \"48\"].to_crs(epsg=3857)\n",
    "\n",
    "# 3) Build the 8-digit ADA_code key on the geometry side\n",
    "ada_ab[\"ADA_code\"] = ada_ab[\"ADAUID\"].astype(str).str.zfill(8)\n",
    "\n",
    "#Load dataset\n",
    "#Load the data and merge the datasets\n",
    "#Load the Datasets\n",
    "profile_df = pd.read_csv(\"/Users/preciousajilore/Documents/GitHub/Misc/BDG/ADA_acs_file.csv\", skiprows= 1)\n",
    "acs_df = pd.read_csv(\"/Users/preciousajilore/Documents/GitHub/Misc/BDG/ADA_profile_simplified.csv\")\n",
    "\n",
    "print(\"Profile Columns\", profile_df.columns.to_list())\n",
    "print(\"ACS Columns\", acs_df.columns.to_list())\n",
    "\n",
    "# 2) Merge on ADA_code\n",
    "#Merge Datasets on ADA_code\n",
    "df = pd.merge(profile_df, acs_df, on='ADA_code', how='inner')\n",
    "\n",
    "#Please work lol\n",
    "df.head()\n",
    "\n",
    "# 6) Rename the public-transit indices for clarity\n",
    "df = df.rename(columns={\n",
    "    \"public_hf\":   \"access_hf\",    # health facilities\n",
    "    \"public_srf\":  \"access_srf\",   # sports & rec centres\n",
    "    \"public_psef\": \"access_psef\"   # post-secondary institutions\n",
    "})\n",
    "\n",
    "# 7) Make sure ADA_code is zero-padded string on the attribute side too\n",
    "df[\"ADA_code\"] = df[\"ADA_code\"].astype(str).str.zfill(8)\n",
    "\n",
    "# 8) Merge attributes into the geometries\n",
    "gdf_ab = ada_ab.merge(\n",
    "    df[[\"ADA_code\",\"access_hf\",\"access_srf\",\"access_psef\",\"CMANAME_x\"]],\n",
    "    on=\"ADA_code\",\n",
    "    how=\"left\"\n",
    ")\n",
    "\n",
    "# 9) Filter to just Edmonton CMAs\n",
    "gdf_ed = gdf_ab[\n",
    "    gdf_ab[\"CMANAME_x\"].str.contains(\"Edmonton\", case=False, na=False)\n",
    "].copy()\n",
    "\n",
    "# 10) Plot a choropleth of the health-access index\n",
    "fig, ax = plt.subplots(figsize=(8,8))\n",
    "gdf_ed.plot(\n",
    "    column=\"access_hf\",\n",
    "    cmap=\"viridis\",\n",
    "    scheme=\"quantiles\",\n",
    "    k=5,\n",
    "    legend=True,\n",
    "    edgecolor=\"white\",\n",
    "    linewidth=0.2,\n",
    "    ax=ax\n",
    ")\n",
    "\n",
    "# 11) (Optional) Add a neutral basemap underneath\n",
    "cx.add_basemap(\n",
    "    ax,\n",
    "    source=cx.providers.CartoDB.Positron,\n",
    "    crs=gdf_ed.crs,\n",
    "    reset_extent=False\n",
    ")\n",
    "\n",
    "# 12) Final styling\n",
    "ax.set_title(\"Edmonton ADAs — Health Accessibility Index\\n(0 = worst access, 1 = best)\")\n",
    "ax.axis(\"off\")\n",
    "plt.tight_layout()\n",
    "plt.show()\n"
   ]
  }
 ],
 "metadata": {
  "kernelspec": {
   "display_name": "Python 3",
   "language": "python",
   "name": "python3"
  },
  "language_info": {
   "codemirror_mode": {
    "name": "ipython",
    "version": 3
   },
   "file_extension": ".py",
   "mimetype": "text/x-python",
   "name": "python",
   "nbconvert_exporter": "python",
   "pygments_lexer": "ipython3",
   "version": "3.12.1"
  }
 },
 "nbformat": 4,
 "nbformat_minor": 5
}
