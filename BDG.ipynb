{
  "cells": [
    {
      "cell_type": "code",
      "execution_count": 2,
      "metadata": {
        "id": "6VYV52lDXJS6"
      },
      "outputs": [],
      "source": [
        "# 0  Environment -------------------------------------------------\n",
        "import pandas as pd\n",
        "import numpy as np\n",
        "import matplotlib.pyplot as plt\n",
        "import seaborn as sns"
      ]
    },
    {
      "cell_type": "code",
      "execution_count": 20,
      "metadata": {
        "colab": {
          "base_uri": "https://localhost:8080/",
          "height": 530
        },
        "id": "Ev5qWASYZ4-m",
        "outputId": "85396921-855f-4d17-dd76-9997a5838045"
      },
      "outputs": [],
      "source": [
        "#Load the Datasets\n",
        "profile_df = pd.read_csv(\"/Users/preciousajilore/Documents/GitHub/Misc/BDG/ADA_acs_file.csv\", skiprows= 1)\n",
        "acs_df = pd.read_csv(\"/Users/preciousajilore/Documents/GitHub/Misc/BDG/ADA_profile_simplified.csv\")"
      ]
    },
    {
      "cell_type": "code",
      "execution_count": 21,
      "metadata": {},
      "outputs": [
        {
          "name": "stdout",
          "output_type": "stream",
          "text": [
            "Profile Columns ['CMANAME', 'CMAUID', 'CSDNAME', 'CSDUID', 'public_caf', 'public_ef', 'public_emp', 'public_gs', 'public_hf', 'public_psef', 'public_srf', 'walk_caf', 'walk_ef', 'walk_emp', 'walk_gs', 'walk_hf', 'walk_psef', 'walk_srf', 'ada_code_n', 'ADA_code']\n",
            "ACS Columns ['CMANAME', 'CMAUID', 'CSDNAME', 'CSDUID', 'PRNAME', 'ada_code_n', 'ADA_code', 'T1527', 'T1528', 'T1529', 'T1530', 'T1531', 'T1532', 'T1533', 'T1534', 'T1535', 'T1536', 'T1537', 'T1538', 'T1539', 'T1540', 'T1541', 'T1542', 'T1543', 'T1544', 'T1545', 'T1546', 'T1547', 'T1548', 'T1549', 'T1550', 'T1551', 'T1552', 'T1553', 'T1554', 'T1555', 'T1556', 'T1557', 'T1558', 'T1559', 'T1560', 'T1561', 'T1562', 'T1563', 'T1564', 'T1565', 'T1566', 'T1567', 'T1568', 'T1569', 'T1570', 'T1571', 'T1572', 'T1573', 'T1574', 'T1575', 'T1576', 'T1577', 'T1578', 'T1579', 'T1580', 'T1581', 'T1582', 'T1583', 'T1584', 'T1585', 'T1586', 'T1587', 'T1588', 'T1589', 'T1590', 'T1591', 'T1592', 'T1593', 'T1594', 'T1595', 'T1596', 'T1597', 'T1598', 'T1599', 'T1600', 'T1601', 'T1602', 'T1603', 'T1604', 'T1605', 'T1606', 'T1607', 'T1608', 'T1609', 'T1610', 'T1611', 'T1612', 'T1613', 'T1614', 'T1615', 'T1616', 'T1617', 'T1618', 'T1619', 'T1620', 'T1621', 'T1622', 'T1623', 'T1624', 'T1625', 'T1626', 'T1627', 'T1628', 'T1629', 'T1630', 'T1631', 'T1632', 'T1633', 'T1634', 'T1635', 'T1636', 'T1637', 'T1638', 'T1639', 'T1640', 'T1641', 'T1642', 'T1643', 'T1644', 'T1645', 'T1646', 'T1647', 'T1648', 'T1649', 'T1650', 'T1651', 'T1652', 'T1653', 'T1654', 'T1655', 'T1656', 'T1657', 'T1658', 'T1659', 'T1660', 'T1661', 'T1662', 'T1663', 'T1664', 'T1665', 'T1666', 'T1667', 'T1668', 'T1669', 'T1670', 'T1671', 'T1672', 'T1673', 'T1674', 'T1675', 'T1676', 'T1677', 'T1678', 'T1679', 'T1680', 'T1681', 'T1682', 'W1527', 'W1528', 'W1529', 'W1530', 'W1531', 'W1532', 'W1533', 'W1534', 'W1535', 'W1536', 'W1537', 'W1538', 'W1539', 'W1540', 'W1541', 'W1542', 'W1543', 'W1544', 'W1545', 'W1546', 'W1547', 'W1548', 'W1549', 'W1550', 'W1551', 'W1552', 'W1553', 'W1554', 'W1555', 'W1556', 'W1557', 'W1558', 'W1559', 'W1560', 'W1561', 'W1562', 'W1563', 'W1564', 'W1565', 'W1566', 'W1567', 'W1568', 'W1569', 'W1570', 'W1571', 'W1572', 'W1573', 'W1574', 'W1575', 'W1576', 'W1577', 'W1578', 'W1579', 'W1580', 'W1581', 'W1582', 'W1583', 'W1584', 'W1585', 'W1586', 'W1587', 'W1588', 'W1589', 'W1590', 'W1591', 'W1592', 'W1593', 'W1594', 'W1595', 'W1596', 'W1597', 'W1598', 'W1599', 'W1600', 'W1601', 'W1602', 'W1603', 'W1604', 'W1605', 'W1606', 'W1607', 'W1608', 'W1609', 'W1610', 'W1611', 'W1612', 'W1613', 'W1614', 'W1615', 'W1616', 'W1617', 'W1618', 'W1619', 'W1620', 'W1621', 'W1622', 'W1623', 'W1624', 'W1625', 'W1626', 'W1627', 'W1628', 'W1629', 'W1630', 'W1631', 'W1632', 'W1633', 'W1634', 'W1635', 'W1636', 'W1637', 'W1638', 'W1639', 'W1640', 'W1641', 'W1642', 'W1643', 'W1644', 'W1645', 'W1646', 'W1647', 'W1648', 'W1649', 'W1650', 'W1651', 'W1652', 'W1653', 'W1654', 'W1655', 'W1656', 'W1657', 'W1658', 'W1659', 'W1660', 'W1661', 'W1662', 'W1663', 'W1664', 'W1665', 'W1666', 'W1667', 'W1668', 'W1669', 'W1670', 'W1671', 'W1672', 'W1673', 'W1674', 'W1675', 'W1676', 'W1677', 'W1678', 'W1679', 'W1680', 'W1681', 'W1682']\n"
          ]
        }
      ],
      "source": [
        "print(\"Profile Columns\", profile_df.columns.to_list())\n",
        "print(\"ACS Columns\", acs_df.columns.to_list())"
      ]
    },
    {
      "cell_type": "code",
      "execution_count": 11,
      "metadata": {},
      "outputs": [
        {
          "name": "stdout",
          "output_type": "stream",
          "text": [
            "['.DS_Store', 'ADA_acs_file.csv', 'README.md', '.gitattributes', 'BDG.ipynb', '.git', 'ADA_profile_simplified.csv', 'jpk']\n"
          ]
        }
      ],
      "source": [
        "import os\n",
        "print(os.listdir('.'))"
      ]
    },
    {
      "cell_type": "code",
      "execution_count": 22,
      "metadata": {},
      "outputs": [
        {
          "data": {
            "text/html": [
              "<div>\n",
              "<style scoped>\n",
              "    .dataframe tbody tr th:only-of-type {\n",
              "        vertical-align: middle;\n",
              "    }\n",
              "\n",
              "    .dataframe tbody tr th {\n",
              "        vertical-align: top;\n",
              "    }\n",
              "\n",
              "    .dataframe thead th {\n",
              "        text-align: right;\n",
              "    }\n",
              "</style>\n",
              "<table border=\"1\" class=\"dataframe\">\n",
              "  <thead>\n",
              "    <tr style=\"text-align: right;\">\n",
              "      <th></th>\n",
              "      <th>CMANAME</th>\n",
              "      <th>CMAUID</th>\n",
              "      <th>CSDNAME</th>\n",
              "      <th>CSDUID</th>\n",
              "      <th>public_caf</th>\n",
              "      <th>public_ef</th>\n",
              "      <th>public_emp</th>\n",
              "      <th>public_gs</th>\n",
              "      <th>public_hf</th>\n",
              "      <th>public_psef</th>\n",
              "      <th>public_srf</th>\n",
              "      <th>walk_caf</th>\n",
              "      <th>walk_ef</th>\n",
              "      <th>walk_emp</th>\n",
              "      <th>walk_gs</th>\n",
              "      <th>walk_hf</th>\n",
              "      <th>walk_psef</th>\n",
              "      <th>walk_srf</th>\n",
              "      <th>ada_code_n</th>\n",
              "      <th>ADA_code</th>\n",
              "    </tr>\n",
              "  </thead>\n",
              "  <tbody>\n",
              "    <tr>\n",
              "      <th>0</th>\n",
              "      <td>Weak metropolitan influenced zone (N.L.) / Zon...</td>\n",
              "      <td>998</td>\n",
              "      <td>Old Perlican</td>\n",
              "      <td>1001343</td>\n",
              "      <td>0.000000</td>\n",
              "      <td>0.000000</td>\n",
              "      <td>0.000000</td>\n",
              "      <td>NaN</td>\n",
              "      <td>0.000000</td>\n",
              "      <td>0.000000</td>\n",
              "      <td>0.000000</td>\n",
              "      <td>0.000926</td>\n",
              "      <td>0.000754</td>\n",
              "      <td>0.000046</td>\n",
              "      <td>1.791493</td>\n",
              "      <td>0.000015</td>\n",
              "      <td>0.000000</td>\n",
              "      <td>0.000459</td>\n",
              "      <td>10010001</td>\n",
              "      <td>10010001</td>\n",
              "    </tr>\n",
              "    <tr>\n",
              "      <th>1</th>\n",
              "      <td>St. John's</td>\n",
              "      <td>1</td>\n",
              "      <td>Pouch Cove</td>\n",
              "      <td>1001505</td>\n",
              "      <td>0.000000</td>\n",
              "      <td>0.000000</td>\n",
              "      <td>0.000000</td>\n",
              "      <td>NaN</td>\n",
              "      <td>0.000000</td>\n",
              "      <td>0.000000</td>\n",
              "      <td>0.000000</td>\n",
              "      <td>0.001482</td>\n",
              "      <td>0.000000</td>\n",
              "      <td>0.000351</td>\n",
              "      <td>NaN</td>\n",
              "      <td>0.000153</td>\n",
              "      <td>0.000000</td>\n",
              "      <td>0.003352</td>\n",
              "      <td>10010002</td>\n",
              "      <td>10010002</td>\n",
              "    </tr>\n",
              "    <tr>\n",
              "      <th>2</th>\n",
              "      <td>Weak metropolitan influenced zone (N.L.) / Zon...</td>\n",
              "      <td>998</td>\n",
              "      <td>Division No.  1, Subd. I</td>\n",
              "      <td>1001374</td>\n",
              "      <td>0.000000</td>\n",
              "      <td>0.000000</td>\n",
              "      <td>0.000000</td>\n",
              "      <td>NaN</td>\n",
              "      <td>0.000000</td>\n",
              "      <td>0.000000</td>\n",
              "      <td>0.000000</td>\n",
              "      <td>0.005042</td>\n",
              "      <td>0.001006</td>\n",
              "      <td>0.001342</td>\n",
              "      <td>5.560567</td>\n",
              "      <td>0.001283</td>\n",
              "      <td>0.013029</td>\n",
              "      <td>0.001829</td>\n",
              "      <td>10010003</td>\n",
              "      <td>10010003</td>\n",
              "    </tr>\n",
              "    <tr>\n",
              "      <th>3</th>\n",
              "      <td>St. John's</td>\n",
              "      <td>1</td>\n",
              "      <td>St. John's</td>\n",
              "      <td>1001519</td>\n",
              "      <td>0.008549</td>\n",
              "      <td>0.008819</td>\n",
              "      <td>0.008912</td>\n",
              "      <td>24.173913</td>\n",
              "      <td>0.008047</td>\n",
              "      <td>0.016364</td>\n",
              "      <td>0.011867</td>\n",
              "      <td>0.003519</td>\n",
              "      <td>0.028732</td>\n",
              "      <td>0.010999</td>\n",
              "      <td>5.638327</td>\n",
              "      <td>0.019479</td>\n",
              "      <td>0.026563</td>\n",
              "      <td>0.030279</td>\n",
              "      <td>10010004</td>\n",
              "      <td>10010004</td>\n",
              "    </tr>\n",
              "    <tr>\n",
              "      <th>4</th>\n",
              "      <td>St. John's</td>\n",
              "      <td>1</td>\n",
              "      <td>Torbay</td>\n",
              "      <td>1001509</td>\n",
              "      <td>0.000000</td>\n",
              "      <td>0.000000</td>\n",
              "      <td>0.000131</td>\n",
              "      <td>NaN</td>\n",
              "      <td>0.000138</td>\n",
              "      <td>0.000000</td>\n",
              "      <td>0.000175</td>\n",
              "      <td>0.002472</td>\n",
              "      <td>0.005695</td>\n",
              "      <td>0.001651</td>\n",
              "      <td>4.934948</td>\n",
              "      <td>0.002003</td>\n",
              "      <td>0.000000</td>\n",
              "      <td>0.004962</td>\n",
              "      <td>10010005</td>\n",
              "      <td>10010005</td>\n",
              "    </tr>\n",
              "  </tbody>\n",
              "</table>\n",
              "</div>"
            ],
            "text/plain": [
              "                                             CMANAME  CMAUID  \\\n",
              "0  Weak metropolitan influenced zone (N.L.) / Zon...     998   \n",
              "1                                         St. John's       1   \n",
              "2  Weak metropolitan influenced zone (N.L.) / Zon...     998   \n",
              "3                                         St. John's       1   \n",
              "4                                         St. John's       1   \n",
              "\n",
              "                    CSDNAME   CSDUID  public_caf  public_ef  public_emp  \\\n",
              "0              Old Perlican  1001343    0.000000   0.000000    0.000000   \n",
              "1                Pouch Cove  1001505    0.000000   0.000000    0.000000   \n",
              "2  Division No.  1, Subd. I  1001374    0.000000   0.000000    0.000000   \n",
              "3                St. John's  1001519    0.008549   0.008819    0.008912   \n",
              "4                    Torbay  1001509    0.000000   0.000000    0.000131   \n",
              "\n",
              "   public_gs  public_hf  public_psef  public_srf  walk_caf   walk_ef  \\\n",
              "0        NaN   0.000000     0.000000    0.000000  0.000926  0.000754   \n",
              "1        NaN   0.000000     0.000000    0.000000  0.001482  0.000000   \n",
              "2        NaN   0.000000     0.000000    0.000000  0.005042  0.001006   \n",
              "3  24.173913   0.008047     0.016364    0.011867  0.003519  0.028732   \n",
              "4        NaN   0.000138     0.000000    0.000175  0.002472  0.005695   \n",
              "\n",
              "   walk_emp   walk_gs   walk_hf  walk_psef  walk_srf  ada_code_n  ADA_code  \n",
              "0  0.000046  1.791493  0.000015   0.000000  0.000459    10010001  10010001  \n",
              "1  0.000351       NaN  0.000153   0.000000  0.003352    10010002  10010002  \n",
              "2  0.001342  5.560567  0.001283   0.013029  0.001829    10010003  10010003  \n",
              "3  0.010999  5.638327  0.019479   0.026563  0.030279    10010004  10010004  \n",
              "4  0.001651  4.934948  0.002003   0.000000  0.004962    10010005  10010005  "
            ]
          },
          "execution_count": 22,
          "metadata": {},
          "output_type": "execute_result"
        }
      ],
      "source": [
        "profile_df.head()"
      ]
    },
    {
      "cell_type": "code",
      "execution_count": 23,
      "metadata": {},
      "outputs": [
        {
          "name": "stdout",
          "output_type": "stream",
          "text": [
            "Columns in profile_df: ['CMANAME', 'CMAUID', 'CSDNAME', 'CSDUID', 'public_caf', 'public_ef', 'public_emp', 'public_gs', 'public_hf', 'public_psef', 'public_srf', 'walk_caf', 'walk_ef', 'walk_emp', 'walk_gs', 'walk_hf', 'walk_psef', 'walk_srf', 'ada_code_n', 'ADA_code']\n",
            "Columns in acs_df: ['CMANAME', 'CMAUID', 'CSDNAME', 'CSDUID', 'PRNAME', 'ada_code_n', 'ADA_code', 'T1527', 'T1528', 'T1529', 'T1530', 'T1531', 'T1532', 'T1533', 'T1534', 'T1535', 'T1536', 'T1537', 'T1538', 'T1539', 'T1540', 'T1541', 'T1542', 'T1543', 'T1544', 'T1545', 'T1546', 'T1547', 'T1548', 'T1549', 'T1550', 'T1551', 'T1552', 'T1553', 'T1554', 'T1555', 'T1556', 'T1557', 'T1558', 'T1559', 'T1560', 'T1561', 'T1562', 'T1563', 'T1564', 'T1565', 'T1566', 'T1567', 'T1568', 'T1569', 'T1570', 'T1571', 'T1572', 'T1573', 'T1574', 'T1575', 'T1576', 'T1577', 'T1578', 'T1579', 'T1580', 'T1581', 'T1582', 'T1583', 'T1584', 'T1585', 'T1586', 'T1587', 'T1588', 'T1589', 'T1590', 'T1591', 'T1592', 'T1593', 'T1594', 'T1595', 'T1596', 'T1597', 'T1598', 'T1599', 'T1600', 'T1601', 'T1602', 'T1603', 'T1604', 'T1605', 'T1606', 'T1607', 'T1608', 'T1609', 'T1610', 'T1611', 'T1612', 'T1613', 'T1614', 'T1615', 'T1616', 'T1617', 'T1618', 'T1619', 'T1620', 'T1621', 'T1622', 'T1623', 'T1624', 'T1625', 'T1626', 'T1627', 'T1628', 'T1629', 'T1630', 'T1631', 'T1632', 'T1633', 'T1634', 'T1635', 'T1636', 'T1637', 'T1638', 'T1639', 'T1640', 'T1641', 'T1642', 'T1643', 'T1644', 'T1645', 'T1646', 'T1647', 'T1648', 'T1649', 'T1650', 'T1651', 'T1652', 'T1653', 'T1654', 'T1655', 'T1656', 'T1657', 'T1658', 'T1659', 'T1660', 'T1661', 'T1662', 'T1663', 'T1664', 'T1665', 'T1666', 'T1667', 'T1668', 'T1669', 'T1670', 'T1671', 'T1672', 'T1673', 'T1674', 'T1675', 'T1676', 'T1677', 'T1678', 'T1679', 'T1680', 'T1681', 'T1682', 'W1527', 'W1528', 'W1529', 'W1530', 'W1531', 'W1532', 'W1533', 'W1534', 'W1535', 'W1536', 'W1537', 'W1538', 'W1539', 'W1540', 'W1541', 'W1542', 'W1543', 'W1544', 'W1545', 'W1546', 'W1547', 'W1548', 'W1549', 'W1550', 'W1551', 'W1552', 'W1553', 'W1554', 'W1555', 'W1556', 'W1557', 'W1558', 'W1559', 'W1560', 'W1561', 'W1562', 'W1563', 'W1564', 'W1565', 'W1566', 'W1567', 'W1568', 'W1569', 'W1570', 'W1571', 'W1572', 'W1573', 'W1574', 'W1575', 'W1576', 'W1577', 'W1578', 'W1579', 'W1580', 'W1581', 'W1582', 'W1583', 'W1584', 'W1585', 'W1586', 'W1587', 'W1588', 'W1589', 'W1590', 'W1591', 'W1592', 'W1593', 'W1594', 'W1595', 'W1596', 'W1597', 'W1598', 'W1599', 'W1600', 'W1601', 'W1602', 'W1603', 'W1604', 'W1605', 'W1606', 'W1607', 'W1608', 'W1609', 'W1610', 'W1611', 'W1612', 'W1613', 'W1614', 'W1615', 'W1616', 'W1617', 'W1618', 'W1619', 'W1620', 'W1621', 'W1622', 'W1623', 'W1624', 'W1625', 'W1626', 'W1627', 'W1628', 'W1629', 'W1630', 'W1631', 'W1632', 'W1633', 'W1634', 'W1635', 'W1636', 'W1637', 'W1638', 'W1639', 'W1640', 'W1641', 'W1642', 'W1643', 'W1644', 'W1645', 'W1646', 'W1647', 'W1648', 'W1649', 'W1650', 'W1651', 'W1652', 'W1653', 'W1654', 'W1655', 'W1656', 'W1657', 'W1658', 'W1659', 'W1660', 'W1661', 'W1662', 'W1663', 'W1664', 'W1665', 'W1666', 'W1667', 'W1668', 'W1669', 'W1670', 'W1671', 'W1672', 'W1673', 'W1674', 'W1675', 'W1676', 'W1677', 'W1678', 'W1679', 'W1680', 'W1681', 'W1682']\n"
          ]
        }
      ],
      "source": [
        "print(\"Columns in profile_df:\", profile_df.columns.tolist())\n",
        "print(\"Columns in acs_df:\", acs_df.columns.tolist())\n"
      ]
    },
    {
      "cell_type": "code",
      "execution_count": 24,
      "metadata": {},
      "outputs": [
        {
          "data": {
            "text/html": [
              "<div>\n",
              "<style scoped>\n",
              "    .dataframe tbody tr th:only-of-type {\n",
              "        vertical-align: middle;\n",
              "    }\n",
              "\n",
              "    .dataframe tbody tr th {\n",
              "        vertical-align: top;\n",
              "    }\n",
              "\n",
              "    .dataframe thead th {\n",
              "        text-align: right;\n",
              "    }\n",
              "</style>\n",
              "<table border=\"1\" class=\"dataframe\">\n",
              "  <thead>\n",
              "    <tr style=\"text-align: right;\">\n",
              "      <th></th>\n",
              "      <th>CMANAME_x</th>\n",
              "      <th>CMAUID_x</th>\n",
              "      <th>CSDNAME_x</th>\n",
              "      <th>CSDUID_x</th>\n",
              "      <th>public_caf</th>\n",
              "      <th>public_ef</th>\n",
              "      <th>public_emp</th>\n",
              "      <th>public_gs</th>\n",
              "      <th>public_hf</th>\n",
              "      <th>public_psef</th>\n",
              "      <th>...</th>\n",
              "      <th>W1673</th>\n",
              "      <th>W1674</th>\n",
              "      <th>W1675</th>\n",
              "      <th>W1676</th>\n",
              "      <th>W1677</th>\n",
              "      <th>W1678</th>\n",
              "      <th>W1679</th>\n",
              "      <th>W1680</th>\n",
              "      <th>W1681</th>\n",
              "      <th>W1682</th>\n",
              "    </tr>\n",
              "  </thead>\n",
              "  <tbody>\n",
              "    <tr>\n",
              "      <th>0</th>\n",
              "      <td>Weak metropolitan influenced zone (N.L.) / Zon...</td>\n",
              "      <td>998</td>\n",
              "      <td>Old Perlican</td>\n",
              "      <td>1001343</td>\n",
              "      <td>0.000000</td>\n",
              "      <td>0.000000</td>\n",
              "      <td>0.000000</td>\n",
              "      <td>NaN</td>\n",
              "      <td>0.000000</td>\n",
              "      <td>0.000000</td>\n",
              "      <td>...</td>\n",
              "      <td>10.0</td>\n",
              "      <td>0.0</td>\n",
              "      <td>0.0</td>\n",
              "      <td>20.0</td>\n",
              "      <td>0.0</td>\n",
              "      <td>10.0</td>\n",
              "      <td>0.0</td>\n",
              "      <td>0.0</td>\n",
              "      <td>0.0</td>\n",
              "      <td>10.0</td>\n",
              "    </tr>\n",
              "    <tr>\n",
              "      <th>1</th>\n",
              "      <td>St. John's</td>\n",
              "      <td>1</td>\n",
              "      <td>Pouch Cove</td>\n",
              "      <td>1001505</td>\n",
              "      <td>0.000000</td>\n",
              "      <td>0.000000</td>\n",
              "      <td>0.000000</td>\n",
              "      <td>NaN</td>\n",
              "      <td>0.000000</td>\n",
              "      <td>0.000000</td>\n",
              "      <td>...</td>\n",
              "      <td>10.0</td>\n",
              "      <td>0.0</td>\n",
              "      <td>0.0</td>\n",
              "      <td>10.0</td>\n",
              "      <td>0.0</td>\n",
              "      <td>0.0</td>\n",
              "      <td>0.0</td>\n",
              "      <td>0.0</td>\n",
              "      <td>0.0</td>\n",
              "      <td>0.0</td>\n",
              "    </tr>\n",
              "    <tr>\n",
              "      <th>2</th>\n",
              "      <td>Weak metropolitan influenced zone (N.L.) / Zon...</td>\n",
              "      <td>998</td>\n",
              "      <td>Division No.  1, Subd. I</td>\n",
              "      <td>1001374</td>\n",
              "      <td>0.000000</td>\n",
              "      <td>0.000000</td>\n",
              "      <td>0.000000</td>\n",
              "      <td>NaN</td>\n",
              "      <td>0.000000</td>\n",
              "      <td>0.000000</td>\n",
              "      <td>...</td>\n",
              "      <td>10.0</td>\n",
              "      <td>0.0</td>\n",
              "      <td>0.0</td>\n",
              "      <td>55.0</td>\n",
              "      <td>0.0</td>\n",
              "      <td>15.0</td>\n",
              "      <td>0.0</td>\n",
              "      <td>0.0</td>\n",
              "      <td>0.0</td>\n",
              "      <td>25.0</td>\n",
              "    </tr>\n",
              "    <tr>\n",
              "      <th>3</th>\n",
              "      <td>St. John's</td>\n",
              "      <td>1</td>\n",
              "      <td>St. John's</td>\n",
              "      <td>1001519</td>\n",
              "      <td>0.008549</td>\n",
              "      <td>0.008819</td>\n",
              "      <td>0.008912</td>\n",
              "      <td>24.173913</td>\n",
              "      <td>0.008047</td>\n",
              "      <td>0.016364</td>\n",
              "      <td>...</td>\n",
              "      <td>80.0</td>\n",
              "      <td>50.0</td>\n",
              "      <td>0.0</td>\n",
              "      <td>400.0</td>\n",
              "      <td>0.0</td>\n",
              "      <td>100.0</td>\n",
              "      <td>15.0</td>\n",
              "      <td>45.0</td>\n",
              "      <td>0.0</td>\n",
              "      <td>235.0</td>\n",
              "    </tr>\n",
              "    <tr>\n",
              "      <th>4</th>\n",
              "      <td>St. John's</td>\n",
              "      <td>1</td>\n",
              "      <td>Torbay</td>\n",
              "      <td>1001509</td>\n",
              "      <td>0.000000</td>\n",
              "      <td>0.000000</td>\n",
              "      <td>0.000131</td>\n",
              "      <td>NaN</td>\n",
              "      <td>0.000138</td>\n",
              "      <td>0.000000</td>\n",
              "      <td>...</td>\n",
              "      <td>35.0</td>\n",
              "      <td>0.0</td>\n",
              "      <td>0.0</td>\n",
              "      <td>80.0</td>\n",
              "      <td>0.0</td>\n",
              "      <td>10.0</td>\n",
              "      <td>10.0</td>\n",
              "      <td>0.0</td>\n",
              "      <td>0.0</td>\n",
              "      <td>55.0</td>\n",
              "    </tr>\n",
              "  </tbody>\n",
              "</table>\n",
              "<p>5 rows × 338 columns</p>\n",
              "</div>"
            ],
            "text/plain": [
              "                                           CMANAME_x  CMAUID_x  \\\n",
              "0  Weak metropolitan influenced zone (N.L.) / Zon...       998   \n",
              "1                                         St. John's         1   \n",
              "2  Weak metropolitan influenced zone (N.L.) / Zon...       998   \n",
              "3                                         St. John's         1   \n",
              "4                                         St. John's         1   \n",
              "\n",
              "                  CSDNAME_x  CSDUID_x  public_caf  public_ef  public_emp  \\\n",
              "0              Old Perlican   1001343    0.000000   0.000000    0.000000   \n",
              "1                Pouch Cove   1001505    0.000000   0.000000    0.000000   \n",
              "2  Division No.  1, Subd. I   1001374    0.000000   0.000000    0.000000   \n",
              "3                St. John's   1001519    0.008549   0.008819    0.008912   \n",
              "4                    Torbay   1001509    0.000000   0.000000    0.000131   \n",
              "\n",
              "   public_gs  public_hf  public_psef  ...  W1673  W1674  W1675  W1676  W1677  \\\n",
              "0        NaN   0.000000     0.000000  ...   10.0    0.0    0.0   20.0    0.0   \n",
              "1        NaN   0.000000     0.000000  ...   10.0    0.0    0.0   10.0    0.0   \n",
              "2        NaN   0.000000     0.000000  ...   10.0    0.0    0.0   55.0    0.0   \n",
              "3  24.173913   0.008047     0.016364  ...   80.0   50.0    0.0  400.0    0.0   \n",
              "4        NaN   0.000138     0.000000  ...   35.0    0.0    0.0   80.0    0.0   \n",
              "\n",
              "   W1678  W1679  W1680  W1681  W1682  \n",
              "0   10.0    0.0    0.0    0.0   10.0  \n",
              "1    0.0    0.0    0.0    0.0    0.0  \n",
              "2   15.0    0.0    0.0    0.0   25.0  \n",
              "3  100.0   15.0   45.0    0.0  235.0  \n",
              "4   10.0   10.0    0.0    0.0   55.0  \n",
              "\n",
              "[5 rows x 338 columns]"
            ]
          },
          "execution_count": 24,
          "metadata": {},
          "output_type": "execute_result"
        }
      ],
      "source": [
        "#Merge Datasets on ADA_code\n",
        "df = pd.merge(profile_df, acs_df, on='ADA_code', how='inner')\n",
        "\n",
        "# Quick check\n",
        "df.head()"
      ]
    },
    {
      "cell_type": "code",
      "execution_count": 27,
      "metadata": {},
      "outputs": [
        {
          "data": {
            "text/html": [
              "<div>\n",
              "<style scoped>\n",
              "    .dataframe tbody tr th:only-of-type {\n",
              "        vertical-align: middle;\n",
              "    }\n",
              "\n",
              "    .dataframe tbody tr th {\n",
              "        vertical-align: top;\n",
              "    }\n",
              "\n",
              "    .dataframe thead th {\n",
              "        text-align: right;\n",
              "    }\n",
              "</style>\n",
              "<table border=\"1\" class=\"dataframe\">\n",
              "  <thead>\n",
              "    <tr style=\"text-align: right;\">\n",
              "      <th></th>\n",
              "      <th>ADA_code</th>\n",
              "      <th>CMANAME_x</th>\n",
              "      <th>num_refugees</th>\n",
              "      <th>num_econ_immigrants</th>\n",
              "      <th>transit_time_healthcare</th>\n",
              "    </tr>\n",
              "  </thead>\n",
              "  <tbody>\n",
              "    <tr>\n",
              "      <th>0</th>\n",
              "      <td>10010001</td>\n",
              "      <td>Weak metropolitan influenced zone (N.L.) / Zon...</td>\n",
              "      <td>0.0</td>\n",
              "      <td>15.0</td>\n",
              "      <td>0.000000</td>\n",
              "    </tr>\n",
              "    <tr>\n",
              "      <th>1</th>\n",
              "      <td>10010002</td>\n",
              "      <td>St. John's</td>\n",
              "      <td>0.0</td>\n",
              "      <td>10.0</td>\n",
              "      <td>0.000000</td>\n",
              "    </tr>\n",
              "    <tr>\n",
              "      <th>2</th>\n",
              "      <td>10010003</td>\n",
              "      <td>Weak metropolitan influenced zone (N.L.) / Zon...</td>\n",
              "      <td>0.0</td>\n",
              "      <td>60.0</td>\n",
              "      <td>0.000000</td>\n",
              "    </tr>\n",
              "    <tr>\n",
              "      <th>3</th>\n",
              "      <td>10010004</td>\n",
              "      <td>St. John's</td>\n",
              "      <td>80.0</td>\n",
              "      <td>595.0</td>\n",
              "      <td>0.008047</td>\n",
              "    </tr>\n",
              "    <tr>\n",
              "      <th>4</th>\n",
              "      <td>10010005</td>\n",
              "      <td>St. John's</td>\n",
              "      <td>0.0</td>\n",
              "      <td>90.0</td>\n",
              "      <td>0.000138</td>\n",
              "    </tr>\n",
              "  </tbody>\n",
              "</table>\n",
              "</div>"
            ],
            "text/plain": [
              "   ADA_code                                          CMANAME_x  num_refugees  \\\n",
              "0  10010001  Weak metropolitan influenced zone (N.L.) / Zon...           0.0   \n",
              "1  10010002                                         St. John's           0.0   \n",
              "2  10010003  Weak metropolitan influenced zone (N.L.) / Zon...           0.0   \n",
              "3  10010004                                         St. John's          80.0   \n",
              "4  10010005                                         St. John's           0.0   \n",
              "\n",
              "   num_econ_immigrants  transit_time_healthcare  \n",
              "0                 15.0                 0.000000  \n",
              "1                 10.0                 0.000000  \n",
              "2                 60.0                 0.000000  \n",
              "3                595.0                 0.008047  \n",
              "4                 90.0                 0.000138  "
            ]
          },
          "execution_count": 27,
          "metadata": {},
          "output_type": "execute_result"
        }
      ],
      "source": [
        "# Step 3 - Selecting relevant columns\n",
        "df_subset = df[['ADA_code', 'CMANAME_x', 'T1674', 'T1670', 'public_hf']].copy()\n",
        "\n",
        "# Rename for clarity\n",
        "df_subset.rename(columns={\n",
        "    'T1674': 'num_refugees',\n",
        "    'T1670': 'num_econ_immigrants',\n",
        "    'public_hf': 'transit_time_healthcare'\n",
        "}, inplace=True)\n",
        "\n",
        "df_subset.head()"
      ]
    },
    {
      "cell_type": "code",
      "execution_count": 28,
      "metadata": {},
      "outputs": [
        {
          "data": {
            "text/html": [
              "<div>\n",
              "<style scoped>\n",
              "    .dataframe tbody tr th:only-of-type {\n",
              "        vertical-align: middle;\n",
              "    }\n",
              "\n",
              "    .dataframe tbody tr th {\n",
              "        vertical-align: top;\n",
              "    }\n",
              "\n",
              "    .dataframe thead th {\n",
              "        text-align: right;\n",
              "    }\n",
              "</style>\n",
              "<table border=\"1\" class=\"dataframe\">\n",
              "  <thead>\n",
              "    <tr style=\"text-align: right;\">\n",
              "      <th></th>\n",
              "      <th>ADA_code</th>\n",
              "      <th>CMANAME_x</th>\n",
              "      <th>num_refugees</th>\n",
              "      <th>num_econ_immigrants</th>\n",
              "      <th>transit_time_healthcare</th>\n",
              "      <th>total</th>\n",
              "      <th>refugee_share</th>\n",
              "      <th>econ_immigrant_share</th>\n",
              "      <th>dominant_group</th>\n",
              "    </tr>\n",
              "  </thead>\n",
              "  <tbody>\n",
              "    <tr>\n",
              "      <th>0</th>\n",
              "      <td>10010001</td>\n",
              "      <td>Weak metropolitan influenced zone (N.L.) / Zon...</td>\n",
              "      <td>0.0</td>\n",
              "      <td>15.0</td>\n",
              "      <td>0.000000</td>\n",
              "      <td>15.0</td>\n",
              "      <td>0.000000</td>\n",
              "      <td>1.000000</td>\n",
              "      <td>Economic-immigrant-dominated</td>\n",
              "    </tr>\n",
              "    <tr>\n",
              "      <th>1</th>\n",
              "      <td>10010002</td>\n",
              "      <td>St. John's</td>\n",
              "      <td>0.0</td>\n",
              "      <td>10.0</td>\n",
              "      <td>0.000000</td>\n",
              "      <td>10.0</td>\n",
              "      <td>0.000000</td>\n",
              "      <td>1.000000</td>\n",
              "      <td>Economic-immigrant-dominated</td>\n",
              "    </tr>\n",
              "    <tr>\n",
              "      <th>2</th>\n",
              "      <td>10010003</td>\n",
              "      <td>Weak metropolitan influenced zone (N.L.) / Zon...</td>\n",
              "      <td>0.0</td>\n",
              "      <td>60.0</td>\n",
              "      <td>0.000000</td>\n",
              "      <td>60.0</td>\n",
              "      <td>0.000000</td>\n",
              "      <td>1.000000</td>\n",
              "      <td>Economic-immigrant-dominated</td>\n",
              "    </tr>\n",
              "    <tr>\n",
              "      <th>3</th>\n",
              "      <td>10010004</td>\n",
              "      <td>St. John's</td>\n",
              "      <td>80.0</td>\n",
              "      <td>595.0</td>\n",
              "      <td>0.008047</td>\n",
              "      <td>675.0</td>\n",
              "      <td>0.118519</td>\n",
              "      <td>0.881481</td>\n",
              "      <td>Economic-immigrant-dominated</td>\n",
              "    </tr>\n",
              "    <tr>\n",
              "      <th>4</th>\n",
              "      <td>10010005</td>\n",
              "      <td>St. John's</td>\n",
              "      <td>0.0</td>\n",
              "      <td>90.0</td>\n",
              "      <td>0.000138</td>\n",
              "      <td>90.0</td>\n",
              "      <td>0.000000</td>\n",
              "      <td>1.000000</td>\n",
              "      <td>Economic-immigrant-dominated</td>\n",
              "    </tr>\n",
              "  </tbody>\n",
              "</table>\n",
              "</div>"
            ],
            "text/plain": [
              "   ADA_code                                          CMANAME_x  num_refugees  \\\n",
              "0  10010001  Weak metropolitan influenced zone (N.L.) / Zon...           0.0   \n",
              "1  10010002                                         St. John's           0.0   \n",
              "2  10010003  Weak metropolitan influenced zone (N.L.) / Zon...           0.0   \n",
              "3  10010004                                         St. John's          80.0   \n",
              "4  10010005                                         St. John's           0.0   \n",
              "\n",
              "   num_econ_immigrants  transit_time_healthcare  total  refugee_share  \\\n",
              "0                 15.0                 0.000000   15.0       0.000000   \n",
              "1                 10.0                 0.000000   10.0       0.000000   \n",
              "2                 60.0                 0.000000   60.0       0.000000   \n",
              "3                595.0                 0.008047  675.0       0.118519   \n",
              "4                 90.0                 0.000138   90.0       0.000000   \n",
              "\n",
              "   econ_immigrant_share                dominant_group  \n",
              "0              1.000000  Economic-immigrant-dominated  \n",
              "1              1.000000  Economic-immigrant-dominated  \n",
              "2              1.000000  Economic-immigrant-dominated  \n",
              "3              0.881481  Economic-immigrant-dominated  \n",
              "4              1.000000  Economic-immigrant-dominated  "
            ]
          },
          "execution_count": 28,
          "metadata": {},
          "output_type": "execute_result"
        }
      ],
      "source": [
        "# Step 4 - Calculating Shares and Dominant Group\n",
        "df_subset['total'] = df_subset['num_refugees'] + df_subset['num_econ_immigrants']\n",
        "df_subset = df_subset[df_subset['total'] > 0]  # avoid division by zero\n",
        "\n",
        "df_subset['refugee_share'] = df_subset['num_refugees'] / df_subset['total']\n",
        "df_subset['econ_immigrant_share'] = 1 - df_subset['refugee_share']\n",
        "\n",
        "# Define dominant group (simple threshold: 50%)\n",
        "df_subset['dominant_group'] = np.where(\n",
        "    df_subset['refugee_share'] >= 0.5, \n",
        "    'Refugee-dominated', \n",
        "    'Economic-immigrant-dominated'\n",
        ")\n",
        "\n",
        "df_subset.head()"
      ]
    },
    {
      "cell_type": "code",
      "execution_count": 29,
      "metadata": {},
      "outputs": [
        {
          "data": {
            "text/plain": [
              "count    4133.000000\n",
              "mean        0.079161\n",
              "std         0.128857\n",
              "min         0.000000\n",
              "25%         0.000153\n",
              "50%         0.023193\n",
              "75%         0.095127\n",
              "max         0.805762\n",
              "Name: transit_time_healthcare, dtype: float64"
            ]
          },
          "execution_count": 29,
          "metadata": {},
          "output_type": "execute_result"
        }
      ],
      "source": [
        "# Step 5 - Checking Data Quality & Distribution\n",
        "df_subset['transit_time_healthcare'].describe()\n"
      ]
    },
    {
      "cell_type": "code",
      "execution_count": 31,
      "metadata": {},
      "outputs": [
        {
          "data": {
            "text/plain": [
              "count    4133.000000\n",
              "mean        0.078488\n",
              "std         0.125897\n",
              "min         0.000000\n",
              "25%         0.000153\n",
              "50%         0.023193\n",
              "75%         0.095127\n",
              "max         0.579120\n",
              "Name: transit_time_healthcare, dtype: float64"
            ]
          },
          "execution_count": 31,
          "metadata": {},
          "output_type": "execute_result"
        }
      ],
      "source": [
        "# Step 6 - Handling Extreme Values\n",
        "upper_bound = df_subset['transit_time_healthcare'].quantile(0.99)\n",
        "df_subset['transit_time_healthcare'] = df_subset['transit_time_healthcare'].clip(upper=upper_bound)\n",
        "\n",
        "# Recheck\n",
        "df_subset['transit_time_healthcare'].describe()\n"
      ]
    },
    {
      "cell_type": "code",
      "execution_count": 73,
      "metadata": {},
      "outputs": [
        {
          "data": {
            "text/html": [
              "<div>\n",
              "<style scoped>\n",
              "    .dataframe tbody tr th:only-of-type {\n",
              "        vertical-align: middle;\n",
              "    }\n",
              "\n",
              "    .dataframe tbody tr th {\n",
              "        vertical-align: top;\n",
              "    }\n",
              "\n",
              "    .dataframe thead th {\n",
              "        text-align: right;\n",
              "    }\n",
              "</style>\n",
              "<table border=\"1\" class=\"dataframe\">\n",
              "  <thead>\n",
              "    <tr style=\"text-align: right;\">\n",
              "      <th></th>\n",
              "      <th>transit_time_healthcare</th>\n",
              "      <th>transit_mins</th>\n",
              "    </tr>\n",
              "  </thead>\n",
              "  <tbody>\n",
              "    <tr>\n",
              "      <th>0</th>\n",
              "      <td>0.000000</td>\n",
              "      <td>0.000000</td>\n",
              "    </tr>\n",
              "    <tr>\n",
              "      <th>1</th>\n",
              "      <td>0.000000</td>\n",
              "      <td>0.000000</td>\n",
              "    </tr>\n",
              "    <tr>\n",
              "      <th>2</th>\n",
              "      <td>0.000000</td>\n",
              "      <td>0.000000</td>\n",
              "    </tr>\n",
              "    <tr>\n",
              "      <th>3</th>\n",
              "      <td>0.008047</td>\n",
              "      <td>0.482827</td>\n",
              "    </tr>\n",
              "    <tr>\n",
              "      <th>4</th>\n",
              "      <td>0.000138</td>\n",
              "      <td>0.008278</td>\n",
              "    </tr>\n",
              "  </tbody>\n",
              "</table>\n",
              "</div>"
            ],
            "text/plain": [
              "   transit_time_healthcare  transit_mins\n",
              "0                 0.000000      0.000000\n",
              "1                 0.000000      0.000000\n",
              "2                 0.000000      0.000000\n",
              "3                 0.008047      0.482827\n",
              "4                 0.000138      0.008278"
            ]
          },
          "execution_count": 73,
          "metadata": {},
          "output_type": "execute_result"
        }
      ],
      "source": [
        "#Convert Hours to Minutes\n",
        "df_subset[\"transit_mins\"]= df_subset[\"transit_time_healthcare\"]*60\n",
        "\n",
        "#Validate\n",
        "df_subset[[\"transit_time_healthcare\", \"transit_mins\"]].head()"
      ]
    },
    {
      "cell_type": "code",
      "execution_count": 74,
      "metadata": {},
      "outputs": [
        {
          "data": {
            "image/png": "[encoded data removed]",
            "text/plain": [
              "<Figure size 800x600 with 1 Axes>"
            ]
          },
          "metadata": {},
          "output_type": "display_data"
        }
      ],
      "source": [
        "# Step 7 - Visualization: Compare Groups Quickly\n",
        "plt.figure(figsize=(8,6))\n",
        "sns.boxplot(data=df_subset, x='dominant_group', y='transit_mins')\n",
        "plt.title('Transit Time to Healthcare by Dominant Immigrant Group')\n",
        "plt.ylabel('Transit Time (minutes)')\n",
        "plt.xlabel('')\n",
        "plt.show()\n"
      ]
    },
    {
      "cell_type": "code",
      "execution_count": 75,
      "metadata": {},
      "outputs": [
        {
          "name": "stdout",
          "output_type": "stream",
          "text": [
            "                              mean  median   std  count\n",
            "dominant_group                                         \n",
            "Economic-immigrant-dominated  4.78    1.36  7.67   3903\n",
            "Refugee-dominated             3.56    2.05  5.10    230\n"
          ]
        }
      ],
      "source": [
        "# Step 8 - Simple Numerical Comparison\n",
        "group_summary = df_subset.groupby('dominant_group')['transit_mins'].agg(['mean','median','std','count'])\n",
        "print(group_summary.round(2))\n"
      ]
    },
    {
      "cell_type": "markdown",
      "metadata": {},
      "source": [
        "Based on the data above we can reach the folllowing conclusions:\n",
        "\n",
        "* Refugee-dominated ADA's sit at a median of 2.05 min to the nearest clinic while Economically-advantaged ADA's sit at a median of 1.45 min to the nearest clinic.. This means that Refugee-dominated ADA's are 41.38% more likely to have to travel further to the nearest clinic than Economically-advantaged ADA's.\n",
        "\n",
        "* Economically-advantaged ADA's have a higher average because there are more outliers in the data, however this does not contradit the median gap between the two groups. It simply means that there are some Economically-advantaged ADA's who have really long distances to the nearest clinic.\n",
        "\n",
        "* In terms of standard deviation, Refugee-dominated ADA's have a higher standard deviation than Economically-advantaged ADA's. This means that there is more variation in the distances to the nearest clinic for Refugee-dominated ADA's than for Economically-advantaged ADA's.\n",
        "\n",
        "We will now run a Mann-Whitney U test to determine if the difference in median distances to the nearest clinic is statistically significant. We use Mann-Whitney U test because the data is not normally distributed and we have two independent groups. If the p-value is less than 0.05, we can reject the null hypothesis and conclude that there is a statistically significant difference in median distances to the nearest clinic between Refugee-dominated ADA's and Economically-advantaged ADA's."
      ]
    },
    {
      "cell_type": "code",
      "execution_count": null,
      "metadata": {},
      "outputs": [
        {
          "name": "stderr",
          "output_type": "stream",
          "text": [
            "Python(28913) MallocStackLogging: can't turn off malloc stack logging because it was not enabled.\n"
          ]
        },
        {
          "name": "stdout",
          "output_type": "stream",
          "text": [
            "Collecting scipy\n",
            "  Downloading scipy-1.15.2-cp312-cp312-macosx_14_0_arm64.whl.metadata (61 kB)\n",
            "Requirement already satisfied: numpy<2.5,>=1.23.5 in /Library/Frameworks/Python.framework/Versions/3.12/lib/python3.12/site-packages (from scipy) (2.1.0)\n",
            "Downloading scipy-1.15.2-cp312-cp312-macosx_14_0_arm64.whl (22.4 MB)\n",
            "\u001b[2K   \u001b[90m━━━━━━━━━━━━━━━━━━━━━━━━━━━━━━━━━━━━━━━━\u001b[0m \u001b[32m22.4/22.4 MB\u001b[0m \u001b[31m12.7 MB/s\u001b[0m eta \u001b[36m0:00:00\u001b[0ma \u001b[36m0:00:01\u001b[0m\n",
            "\u001b[?25hInstalling collected packages: scipy\n",
            "Successfully installed scipy-1.15.2\n",
            "\n",
            "\u001b[1m[\u001b[0m\u001b[34;49mnotice\u001b[0m\u001b[1;39;49m]\u001b[0m\u001b[39;49m A new release of pip is available: \u001b[0m\u001b[31;49m24.2\u001b[0m\u001b[39;49m -> \u001b[0m\u001b[32;49m25.1.1\u001b[0m\n",
            "\u001b[1m[\u001b[0m\u001b[34;49mnotice\u001b[0m\u001b[1;39;49m]\u001b[0m\u001b[39;49m To update, run: \u001b[0m\u001b[32;49mpip install --upgrade pip\u001b[0m\n",
            "Note: you may need to restart the kernel to use updated packages.\n"
          ]
        }
      ],
      "source": []
    },
    {
      "cell_type": "code",
      "execution_count": 76,
      "metadata": {},
      "outputs": [],
      "source": [
        "\n",
        "#Split our data into two independent groups\n",
        "econ_group = df_subset[df_subset[\"dominant_group\"] == 'Economic-immigrant-dominated']['transit_mins'].dropna()\n",
        "refugee_group = df_subset[df_subset['dominant_group']=='Refugee-dominated']['transit_mins'].dropna()"
      ]
    },
    {
      "cell_type": "code",
      "execution_count": 77,
      "metadata": {},
      "outputs": [
        {
          "name": "stdout",
          "output_type": "stream",
          "text": [
            "Economic group - NaNs: 0 Infinite values: 0\n",
            "Refugee group - NaNs: 0 Infinite values: 0\n"
          ]
        }
      ],
      "source": [
        "print(\"Economic group - NaNs:\", econ_group.isna().sum(), \"Infinite values:\", np.isinf(econ_group).sum())\n",
        "print(\"Refugee group - NaNs:\", refugee_group.isna().sum(), \"Infinite values:\", np.isinf(refugee_group).sum())\n",
        "\n"
      ]
    },
    {
      "cell_type": "code",
      "execution_count": 78,
      "metadata": {},
      "outputs": [],
      "source": [
        "#Like I suspected there are NaNS , whyyyyyyy\n",
        "econ_group_clean = econ_group.dropna()\n",
        "refugee_group_clean = refugee_group.dropna()\n"
      ]
    },
    {
      "cell_type": "code",
      "execution_count": 79,
      "metadata": {},
      "outputs": [
        {
          "name": "stdout",
          "output_type": "stream",
          "text": [
            "Economic-dominated count: 3903\n",
            "Refugee-dominated count: 230\n",
            "Economic group - NaNs: 0 Infinite values: 0\n",
            "Refugee group - NaNs: 0 Infinite values: 0\n"
          ]
        }
      ],
      "source": [
        "#I initially got Nan values for the p value so lets check the data\n",
        "\n",
        "print(\"Economic-dominated count:\", econ_group.count())\n",
        "print(\"Refugee-dominated count:\", refugee_group.count())\n",
        "\n",
        "print(\"Economic group - NaNs:\", econ_group.isna().sum(), \"Infinite values:\", np.isinf(econ_group).sum())\n",
        "print(\"Refugee group - NaNs:\", refugee_group.isna().sum(), \"Infinite values:\", np.isinf(refugee_group).sum())\n",
        "\n",
        "\n",
        "\n",
        "\n",
        "\n"
      ]
    },
    {
      "cell_type": "code",
      "execution_count": 80,
      "metadata": {},
      "outputs": [
        {
          "name": "stdout",
          "output_type": "stream",
          "text": [
            "Mann-Whitney U test results:{u_statistic:.2f}\n",
            "P-value: 0.6038\n",
            "There is no significant difference between the transit times of economic immigrants and refugees.\n"
          ]
        }
      ],
      "source": [
        "#Performing the Mann-Whitney U test\n",
        "\n",
        "from scipy.stats import mannwhitneyu\n",
        "\n",
        "\n",
        "#Perform the Mann-Whitney U test\n",
        "u_statistic, p_value = mannwhitneyu(econ_group, refugee_group, alternative='two-sided')\n",
        "\n",
        "#Print the results\n",
        "print(\"Mann-Whitney U test results:{u_statistic:.2f}\")\n",
        "print(f\"P-value: {p_value:.4f}\")\n",
        "\n",
        "#Interpretation:\n",
        "#The Mann-Whitney U test is a non-parametric test that compares the medians of two independent groups.\n",
        "#The null hypothesis is that the two groups have the same median, while the alternative hypothesis is that the medians are different.\n",
        "#The p-value is the probability of observing the test statistic (or a more extreme value) under the null hypothesis.\n",
        "#A small p-value (typically less than 0.05) indicates that the observed difference between the groups is unlikely to have occurred by chance alone, and therefore we reject the null hypothesis.\n",
        "if p_value < 0.05:\n",
        "    print(\"There is a significant difference between the transit times of economic immigrants and refugees.\")\n",
        "else:\n",
        "    print(\"There is no significant difference between the transit times of economic immigrants and refugees.\")"
      ]
    },
    {
      "cell_type": "markdown",
      "metadata": {},
      "source": [
        "Based on the p-valye of 0.6038, we cannot reject the null hypothesis. That means that there is no significant difference between the two groups. \n",
        "\n",
        "This does not support our claim or hypothesis therefore we will explore other variables to see if we can find a significant difference."
      ]
    },
    {
      "cell_type": "code",
      "execution_count": 91,
      "metadata": {},
      "outputs": [
        {
          "name": "stdout",
          "output_type": "stream",
          "text": [
            "Welch t-test: t = 3.39, p = 0.0008\n",
            "Reject the null hypothesis: There is a significant difference in the mean scores between the two groups.\n"
          ]
        }
      ],
      "source": [
        "from scipy.stats import ttest_ind\n",
        "\n",
        "# assuming econ_rec and refugee_rec are already dropna’d\n",
        "t_stat, p_val = ttest_ind(econ_group, refugee_group,\n",
        "                         equal_var=False,   # Welch’s\n",
        "                         nan_policy='omit')\n",
        "\n",
        "print(f\"Welch t-test: t = {t_stat:.2f}, p = {p_val:.4f}\")\n",
        "\n",
        "if p_val < 0.05:\n",
        "    print(\"Reject the null hypothesis: There is a significant difference in the mean scores between the two groups.\")\n",
        "else:\n",
        "    print(\"Fail to reject the null hypothesis: There is no significant difference in the mean scores between the two groups.\")"
      ]
    },
    {
      "cell_type": "markdown",
      "metadata": {},
      "source": [
        "Based on the Welch t-test, there is a significant difference in the mean number of steps between the two groups.\n",
        "\n",
        "This contradicts the results of the Mann-Whitney U test, which found no significant difference. What do we do in this case?"
      ]
    },
    {
      "cell_type": "markdown",
      "metadata": {},
      "source": [
        "We will now pivot to recreation centers"
      ]
    },
    {
      "cell_type": "code",
      "execution_count": 81,
      "metadata": {},
      "outputs": [
        {
          "data": {
            "text/plain": [
              "['public_srf', 'walk_srf']"
            ]
          },
          "execution_count": 81,
          "metadata": {},
          "output_type": "execute_result"
        }
      ],
      "source": [
        "# Check to see if it has rec in the main dataframe\n",
        "[col for col in df.columns if \"srf\" in col.lower() or \"rec\" in col.lower()]"
      ]
    },
    {
      "cell_type": "markdown",
      "metadata": {},
      "source": [
        "Note that \n",
        "public_srf :access via public transit during peak hours, sports and recreational facilities\n",
        "walk_srf : access via walking, sports and recreational facilities\n",
        "T1674 : men and women: Refugees\n",
        "T1670: men and women: Economic immigrants\n"
      ]
    },
    {
      "cell_type": "code",
      "execution_count": 82,
      "metadata": {},
      "outputs": [],
      "source": [
        "#Make a subset of the data frame for recreation based data\n",
        "df_rec = df[[\n",
        "    'ADA_code',\n",
        "    'CMANAME_x',\n",
        "    'T1674',\n",
        "    'T1670',\n",
        "    'public_srf'\n",
        "]].copy()"
      ]
    },
    {
      "cell_type": "code",
      "execution_count": 83,
      "metadata": {},
      "outputs": [],
      "source": [
        "#Lets rename them too\n",
        "df_rec.rename(columns={\n",
        "    'T1674': 'num_refugees',\n",
        "    'T1670': 'num_econ_immigrants',\n",
        "    'public_srf': 'rec_time_hr'\n",
        "}, inplace=True)"
      ]
    },
    {
      "cell_type": "code",
      "execution_count": 84,
      "metadata": {},
      "outputs": [],
      "source": [
        "\"\"\"\n",
        "We compute shares rther than raw counts because the \n",
        "raw counts of each group will vary with size.\n",
        "\n",
        "We also winsorize the transit-time value because of extreme outliers like we saw in the boxplot.\n",
        "By doing so we keep those outliers in the data but we are able to limit their leverage \n",
        "\"\"\"\n",
        "\n",
        "df_rec['total']         = df_rec['num_refugees'] + df_rec['num_econ_immigrants']\n",
        "df_rec                  = df_rec[df_rec['total']>0]  # drop zeros\n",
        "df_rec['refugee_share'] = df_rec['num_refugees'] / df_rec['total']\n",
        "df_rec['dominant_group']= np.where(df_rec['refugee_share']>=0.5,\n",
        "                                   'Refugee-dominated',\n",
        "                                   'Economic-immigrant-dominated')\n",
        "\n",
        "cap = df_rec['rec_time_hr'].quantile(0.99)\n",
        "df_rec['rec_time_hr'] = df_rec['rec_time_hr'].clip(upper=cap)\n"
      ]
    },
    {
      "cell_type": "code",
      "execution_count": 85,
      "metadata": {},
      "outputs": [],
      "source": [
        "#Lets convert to minutes instead of hours\n",
        "df_rec['rec_time_min'] = df_rec['rec_time_hr'] * 60"
      ]
    },
    {
      "cell_type": "code",
      "execution_count": 86,
      "metadata": {},
      "outputs": [
        {
          "name": "stdout",
          "output_type": "stream",
          "text": [
            "                              mean  median   std  count\n",
            "dominant_group                                         \n",
            "Economic-immigrant-dominated  5.29    1.86  7.73   3898\n",
            "Refugee-dominated             4.29    2.33  5.78    230\n"
          ]
        }
      ],
      "source": [
        "#Summary\n",
        "print(df_rec.groupby('dominant_group')['rec_time_min']\n",
        "       .agg(['mean','median','std','count'])\n",
        "       .round(2))"
      ]
    },
    {
      "cell_type": "code",
      "execution_count": 88,
      "metadata": {},
      "outputs": [
        {
          "name": "stdout",
          "output_type": "stream",
          "text": [
            "Mann–Whitney U = 448968, p = 0.9682\n",
            "There is no significant difference between the transit times of economic immigrants and refugees.\n"
          ]
        }
      ],
      "source": [
        "#Lets perform a Mann-Whitney U test to compare the mean of the two groups\n",
        "#H0: There is no difference in the mean of the two groups\n",
        "#H1: There is a difference in the mean of the two groups\n",
        "\n",
        "econ_rec   = df_rec[df_rec['dominant_group']=='Economic-immigrant-dominated']['rec_time_min'].dropna()\n",
        "refugee_rec= df_rec[df_rec['dominant_group']=='Refugee-dominated']['rec_time_min'].dropna()\n",
        "\n",
        "u_stat, p_val = mannwhitneyu(econ_rec, refugee_rec, alternative='two-sided')\n",
        "print(f\"Mann–Whitney U = {u_stat:.0f}, p = {p_val:.4f}\")\n",
        "\n",
        "if p_value < 0.05:\n",
        "    print(\"There is a significant difference between the transit times of economic immigrants and refugees.\")\n",
        "else:\n",
        "    print(\"There is no significant difference between the transit times of economic immigrants and refugees.\")"
      ]
    },
    {
      "cell_type": "code",
      "execution_count": 89,
      "metadata": {},
      "outputs": [
        {
          "name": "stdout",
          "output_type": "stream",
          "text": [
            "Welch t-test: t = 2.49, p = 0.0133\n"
          ]
        }
      ],
      "source": [
        "#Lets try a different test, the Welch t-test, we will use the same data\n",
        "# We use this test because we are comparing two different groups and we do not know if they have the same variance\n",
        "from scipy.stats import ttest_ind\n",
        "\n",
        "# assuming econ_rec and refugee_rec are already dropna’d\n",
        "t_stat, p_val = ttest_ind(econ_rec, refugee_rec,\n",
        "                         equal_var=False,   # Welch’s\n",
        "                         nan_policy='omit')\n",
        "\n",
        "print(f\"Welch t-test: t = {t_stat:.2f}, p = {p_val:.4f}\")\n",
        "\n"
      ]
    },
    {
      "cell_type": "code",
      "execution_count": 92,
      "metadata": {},
      "outputs": [
        {
          "name": "stdout",
          "output_type": "stream",
          "text": [
            "KS test: D = 0.063, p = 0.3467\n"
          ]
        }
      ],
      "source": [
        "from scipy.stats import ks_2samp\n",
        "\n",
        "ks_stat, ks_p = ks_2samp(econ_rec, refugee_rec, alternative='two-sided')\n",
        "\n",
        "print(f\"KS test: D = {ks_stat:.3f}, p = {ks_p:.4f}\")\n"
      ]
    },
    {
      "cell_type": "code",
      "execution_count": 93,
      "metadata": {},
      "outputs": [
        {
          "name": "stdout",
          "output_type": "stream",
          "text": [
            "Spearman ρ = 0.313, p = 0.0000\n"
          ]
        }
      ],
      "source": [
        "from scipy.stats import spearmanr\n",
        "\n",
        "rho, p_spear = spearmanr(df_rec['refugee_share'], df_rec['rec_time_min'], nan_policy='omit')\n",
        "print(f\"Spearman ρ = {rho:.3f}, p = {p_spear:.4f}\")\n"
      ]
    },
    {
      "cell_type": "code",
      "execution_count": 95,
      "metadata": {},
      "outputs": [
        {
          "name": "stderr",
          "output_type": "stream",
          "text": [
            "Python(30756) MallocStackLogging: can't turn off malloc stack logging because it was not enabled.\n"
          ]
        },
        {
          "name": "stdout",
          "output_type": "stream",
          "text": [
            "Collecting statsmodels\n",
            "  Downloading statsmodels-0.14.4-cp312-cp312-macosx_11_0_arm64.whl.metadata (9.2 kB)\n",
            "Requirement already satisfied: numpy<3,>=1.22.3 in /Library/Frameworks/Python.framework/Versions/3.12/lib/python3.12/site-packages (from statsmodels) (2.1.0)\n",
            "Requirement already satisfied: scipy!=1.9.2,>=1.8 in /Library/Frameworks/Python.framework/Versions/3.12/lib/python3.12/site-packages (from statsmodels) (1.15.2)\n",
            "Requirement already satisfied: pandas!=2.1.0,>=1.4 in /Library/Frameworks/Python.framework/Versions/3.12/lib/python3.12/site-packages (from statsmodels) (2.2.3)\n",
            "Collecting patsy>=0.5.6 (from statsmodels)\n",
            "  Downloading patsy-1.0.1-py2.py3-none-any.whl.metadata (3.3 kB)\n",
            "Requirement already satisfied: packaging>=21.3 in /Library/Frameworks/Python.framework/Versions/3.12/lib/python3.12/site-packages (from statsmodels) (24.1)\n",
            "Requirement already satisfied: python-dateutil>=2.8.2 in /Library/Frameworks/Python.framework/Versions/3.12/lib/python3.12/site-packages (from pandas!=2.1.0,>=1.4->statsmodels) (2.9.0.post0)\n",
            "Requirement already satisfied: pytz>=2020.1 in /Library/Frameworks/Python.framework/Versions/3.12/lib/python3.12/site-packages (from pandas!=2.1.0,>=1.4->statsmodels) (2025.2)\n",
            "Requirement already satisfied: tzdata>=2022.7 in /Library/Frameworks/Python.framework/Versions/3.12/lib/python3.12/site-packages (from pandas!=2.1.0,>=1.4->statsmodels) (2025.2)\n",
            "Requirement already satisfied: six>=1.5 in /Library/Frameworks/Python.framework/Versions/3.12/lib/python3.12/site-packages (from python-dateutil>=2.8.2->pandas!=2.1.0,>=1.4->statsmodels) (1.16.0)\n",
            "Downloading statsmodels-0.14.4-cp312-cp312-macosx_11_0_arm64.whl (9.9 MB)\n",
            "\u001b[2K   \u001b[90m━━━━━━━━━━━━━━━━━━━━━━━━━━━━━━━━━━━━━━━━\u001b[0m \u001b[32m9.9/9.9 MB\u001b[0m \u001b[31m16.4 MB/s\u001b[0m eta \u001b[36m0:00:00\u001b[0m00:01\u001b[0m00:01\u001b[0m\n",
            "\u001b[?25hDownloading patsy-1.0.1-py2.py3-none-any.whl (232 kB)\n",
            "Installing collected packages: patsy, statsmodels\n",
            "Successfully installed patsy-1.0.1 statsmodels-0.14.4\n",
            "\n",
            "\u001b[1m[\u001b[0m\u001b[34;49mnotice\u001b[0m\u001b[1;39;49m]\u001b[0m\u001b[39;49m A new release of pip is available: \u001b[0m\u001b[31;49m24.2\u001b[0m\u001b[39;49m -> \u001b[0m\u001b[32;49m25.1.1\u001b[0m\n",
            "\u001b[1m[\u001b[0m\u001b[34;49mnotice\u001b[0m\u001b[1;39;49m]\u001b[0m\u001b[39;49m To update, run: \u001b[0m\u001b[32;49mpip install --upgrade pip\u001b[0m\n",
            "Note: you may need to restart the kernel to use updated packages.\n"
          ]
        }
      ],
      "source": [
        "pip install statsmodels"
      ]
    },
    {
      "cell_type": "code",
      "execution_count": 98,
      "metadata": {},
      "outputs": [
        {
          "data": {
            "text/plain": [
              "Index(['ADA_code', 'CMANAME_x', 'num_refugees', 'num_econ_immigrants',\n",
              "       'rec_time_hr', 'total', 'refugee_share', 'dominant_group',\n",
              "       'rec_time_min'],\n",
              "      dtype='object')"
            ]
          },
          "execution_count": 98,
          "metadata": {},
          "output_type": "execute_result"
        }
      ],
      "source": [
        "df_rec.columns"
      ]
    },
    {
      "cell_type": "code",
      "execution_count": 102,
      "metadata": {},
      "outputs": [
        {
          "data": {
            "text/plain": [
              "False"
            ]
          },
          "execution_count": 102,
          "metadata": {},
          "output_type": "execute_result"
        }
      ],
      "source": [
        "'pop_density' in df.columns.tolist()"
      ]
    }
  ],
  "metadata": {
    "colab": {
      "provenance": []
    },
    "kernelspec": {
      "display_name": "Python 3",
      "name": "python3"
    },
    "language_info": {
      "codemirror_mode": {
        "name": "ipython",
        "version": 3
      },
      "file_extension": ".py",
      "mimetype": "text/x-python",
      "name": "python",
      "nbconvert_exporter": "python",
      "pygments_lexer": "ipython3",
      "version": "3.12.1"
    }
  },
  "nbformat": 4,
  "nbformat_minor": 0
}
